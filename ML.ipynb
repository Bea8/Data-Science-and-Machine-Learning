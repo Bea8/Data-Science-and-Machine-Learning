{
 "cells": [
  {
   "cell_type": "code",
   "execution_count": 1,
   "metadata": {},
   "outputs": [],
   "source": [
    "#Logistic Regression with Python\n",
    "#I have tried to predict a classification: will graduate or will drop out."
   ]
  },
  {
   "cell_type": "code",
   "execution_count": 2,
   "metadata": {},
   "outputs": [],
   "source": [
    "import pandas as pd\n",
    "import numpy as np\n",
    "import matplotlib.pyplot as plt;\n",
    "import seaborn as sns\n",
    "from sklearn.preprocessing import StandardScaler"
   ]
  },
  {
   "cell_type": "code",
   "execution_count": 3,
   "metadata": {},
   "outputs": [
    {
     "data": {
      "text/plain": [
       "<matplotlib.axes._subplots.AxesSubplot at 0x258e830f940>"
      ]
     },
     "execution_count": 3,
     "metadata": {},
     "output_type": "execute_result"
    },
    {
     "data": {
      "image/png": "[encoded data removed]",
      "text/plain": [
       "<Figure size 432x288 with 1 Axes>"
      ]
     },
     "metadata": {},
     "output_type": "display_data"
    }
   ],
   "source": [
    "data_score = pd.read_csv(\"score_board.csv\")\n",
    "\n",
    "#Exploratory Data Analysis: patterns and visualisaions\n",
    "\n",
    "#Accepted\n",
    "sns.set_style('whitegrid')\n",
    "sns.countplot(x='accepted',data=data_score,palette='RdBu_r')"
   ]
  },
  {
   "cell_type": "code",
   "execution_count": 4,
   "metadata": {},
   "outputs": [
    {
     "data": {
      "text/plain": [
       "<matplotlib.axes._subplots.AxesSubplot at 0x258e746d278>"
      ]
     },
     "execution_count": 4,
     "metadata": {},
     "output_type": "execute_result"
    },
    {
     "data": {
      "image/png": "[encoded data removed]",
      "text/plain": [
       "<Figure size 432x288 with 1 Axes>"
      ]
     },
     "metadata": {},
     "output_type": "display_data"
    }
   ],
   "source": [
    "data_grad = pd.read_csv(\"graduates.csv\")\n",
    "\n",
    "#Graduated\n",
    "sns.set_style('whitegrid')\n",
    "sns.countplot(x='graduated',data=data_grad,palette='RdBu_r')"
   ]
  },
  {
   "cell_type": "code",
   "execution_count": 5,
   "metadata": {},
   "outputs": [
    {
     "data": {
      "text/html": [
       "<div>\n",
       "<style scoped>\n",
       "    .dataframe tbody tr th:only-of-type {\n",
       "        vertical-align: middle;\n",
       "    }\n",
       "\n",
       "    .dataframe tbody tr th {\n",
       "        vertical-align: top;\n",
       "    }\n",
       "\n",
       "    .dataframe thead th {\n",
       "        text-align: right;\n",
       "    }\n",
       "</style>\n",
       "<table border=\"1\" class=\"dataframe\">\n",
       "  <thead>\n",
       "    <tr style=\"text-align: right;\">\n",
       "      <th></th>\n",
       "      <th>id</th>\n",
       "      <th>year</th>\n",
       "      <th>gpa</th>\n",
       "      <th>maths_exam</th>\n",
       "      <th>art_exam</th>\n",
       "      <th>language_exam</th>\n",
       "      <th>social_activity</th>\n",
       "      <th>essay_score</th>\n",
       "      <th>interview_score</th>\n",
       "      <th>score</th>\n",
       "      <th>accepted</th>\n",
       "      <th>graduated</th>\n",
       "    </tr>\n",
       "  </thead>\n",
       "  <tbody>\n",
       "    <tr>\n",
       "      <th>0</th>\n",
       "      <td>CS-1980-00002</td>\n",
       "      <td>1980</td>\n",
       "      <td>3.743429</td>\n",
       "      <td>0.898700</td>\n",
       "      <td>0.978949</td>\n",
       "      <td>0.937879</td>\n",
       "      <td>4</td>\n",
       "      <td>0.991515</td>\n",
       "      <td>0.999604</td>\n",
       "      <td>857</td>\n",
       "      <td>True</td>\n",
       "      <td>False</td>\n",
       "    </tr>\n",
       "    <tr>\n",
       "      <th>1</th>\n",
       "      <td>CS-1980-00004</td>\n",
       "      <td>1980</td>\n",
       "      <td>3.047625</td>\n",
       "      <td>0.993001</td>\n",
       "      <td>0.950673</td>\n",
       "      <td>0.763701</td>\n",
       "      <td>5</td>\n",
       "      <td>0.996858</td>\n",
       "      <td>0.949954</td>\n",
       "      <td>841</td>\n",
       "      <td>True</td>\n",
       "      <td>True</td>\n",
       "    </tr>\n",
       "    <tr>\n",
       "      <th>2</th>\n",
       "      <td>CS-1980-00007</td>\n",
       "      <td>1980</td>\n",
       "      <td>2.897191</td>\n",
       "      <td>0.718591</td>\n",
       "      <td>0.941583</td>\n",
       "      <td>0.489207</td>\n",
       "      <td>4</td>\n",
       "      <td>0.980957</td>\n",
       "      <td>0.912487</td>\n",
       "      <td>811</td>\n",
       "      <td>True</td>\n",
       "      <td>True</td>\n",
       "    </tr>\n",
       "    <tr>\n",
       "      <th>3</th>\n",
       "      <td>CS-1980-00008</td>\n",
       "      <td>1980</td>\n",
       "      <td>3.948450</td>\n",
       "      <td>0.953325</td>\n",
       "      <td>0.981074</td>\n",
       "      <td>0.914729</td>\n",
       "      <td>1</td>\n",
       "      <td>0.999489</td>\n",
       "      <td>0.997138</td>\n",
       "      <td>875</td>\n",
       "      <td>True</td>\n",
       "      <td>False</td>\n",
       "    </tr>\n",
       "    <tr>\n",
       "      <th>4</th>\n",
       "      <td>CS-1980-00012</td>\n",
       "      <td>1980</td>\n",
       "      <td>3.939870</td>\n",
       "      <td>0.452506</td>\n",
       "      <td>0.952712</td>\n",
       "      <td>0.974585</td>\n",
       "      <td>4</td>\n",
       "      <td>0.940924</td>\n",
       "      <td>0.973076</td>\n",
       "      <td>790</td>\n",
       "      <td>True</td>\n",
       "      <td>True</td>\n",
       "    </tr>\n",
       "  </tbody>\n",
       "</table>\n",
       "</div>"
      ],
      "text/plain": [
       "              id  year       gpa  maths_exam  art_exam  language_exam  \\\n",
       "0  CS-1980-00002  1980  3.743429    0.898700  0.978949       0.937879   \n",
       "1  CS-1980-00004  1980  3.047625    0.993001  0.950673       0.763701   \n",
       "2  CS-1980-00007  1980  2.897191    0.718591  0.941583       0.489207   \n",
       "3  CS-1980-00008  1980  3.948450    0.953325  0.981074       0.914729   \n",
       "4  CS-1980-00012  1980  3.939870    0.452506  0.952712       0.974585   \n",
       "\n",
       "   social_activity  essay_score  interview_score  score  accepted graduated  \n",
       "0                4     0.991515         0.999604    857      True     False  \n",
       "1                5     0.996858         0.949954    841      True      True  \n",
       "2                4     0.980957         0.912487    811      True      True  \n",
       "3                1     0.999489         0.997138    875      True     False  \n",
       "4                4     0.940924         0.973076    790      True      True  "
      ]
     },
     "execution_count": 5,
     "metadata": {},
     "output_type": "execute_result"
    }
   ],
   "source": [
    "#combine data sets into one full data set\n",
    "train_unfiltered = pd.merge(data_score, data_grad, how='left')\n",
    "train = train_unfiltered.drop(train_unfiltered[train_unfiltered[\"accepted\"] == False].index, inplace=False).reset_index(drop=True)\n",
    "train.head()"
   ]
  },
  {
   "cell_type": "code",
   "execution_count": 6,
   "metadata": {},
   "outputs": [
    {
     "data": {
      "text/plain": [
       "<matplotlib.axes._subplots.AxesSubplot at 0x258e757b588>"
      ]
     },
     "execution_count": 6,
     "metadata": {},
     "output_type": "execute_result"
    },
    {
     "data": {
      "image/png": "[encoded data removed]",
      "text/plain": [
       "<Figure size 432x288 with 1 Axes>"
      ]
     },
     "metadata": {},
     "output_type": "display_data"
    }
   ],
   "source": [
    "#We can use seaborn to create a simple heatmap to see if/where we are missing data\n",
    "sns.heatmap(train.isnull(),yticklabels=False,cbar=False,cmap='viridis')"
   ]
  },
  {
   "cell_type": "code",
   "execution_count": 7,
   "metadata": {},
   "outputs": [
    {
     "name": "stdout",
     "output_type": "stream",
     "text": [
      "<class 'pandas.core.frame.DataFrame'>\n",
      "RangeIndex: 7009 entries, 0 to 7008\n",
      "Data columns (total 12 columns):\n",
      "id                 7009 non-null object\n",
      "year               7009 non-null int64\n",
      "gpa                7009 non-null float64\n",
      "maths_exam         7009 non-null float64\n",
      "art_exam           7009 non-null float64\n",
      "language_exam      7009 non-null float64\n",
      "social_activity    7009 non-null int64\n",
      "essay_score        7009 non-null float64\n",
      "interview_score    7009 non-null float64\n",
      "score              7009 non-null int64\n",
      "accepted           7009 non-null bool\n",
      "graduated          7009 non-null object\n",
      "dtypes: bool(1), float64(6), int64(3), object(2)\n",
      "memory usage: 609.3+ KB\n"
     ]
    }
   ],
   "source": [
    "#There are no missing values in the train data set\n",
    "\n",
    "#Features: id, year are unlikely to yield any useful information and therefore will be dropped entirely. Feature accepted can be omitted as well.\n",
    "\n",
    "#train dataset column types information\n",
    "train.info()"
   ]
  },
  {
   "cell_type": "code",
   "execution_count": 8,
   "metadata": {},
   "outputs": [
    {
     "data": {
      "text/html": [
       "<div>\n",
       "<style scoped>\n",
       "    .dataframe tbody tr th:only-of-type {\n",
       "        vertical-align: middle;\n",
       "    }\n",
       "\n",
       "    .dataframe tbody tr th {\n",
       "        vertical-align: top;\n",
       "    }\n",
       "\n",
       "    .dataframe thead th {\n",
       "        text-align: right;\n",
       "    }\n",
       "</style>\n",
       "<table border=\"1\" class=\"dataframe\">\n",
       "  <thead>\n",
       "    <tr style=\"text-align: right;\">\n",
       "      <th></th>\n",
       "      <th>gpa</th>\n",
       "      <th>maths_exam</th>\n",
       "      <th>art_exam</th>\n",
       "      <th>language_exam</th>\n",
       "      <th>social_activity</th>\n",
       "      <th>essay_score</th>\n",
       "      <th>interview_score</th>\n",
       "      <th>score</th>\n",
       "      <th>graduated</th>\n",
       "    </tr>\n",
       "  </thead>\n",
       "  <tbody>\n",
       "    <tr>\n",
       "      <th>0</th>\n",
       "      <td>3.743429</td>\n",
       "      <td>0.898700</td>\n",
       "      <td>0.978949</td>\n",
       "      <td>0.937879</td>\n",
       "      <td>4</td>\n",
       "      <td>0.991515</td>\n",
       "      <td>0.999604</td>\n",
       "      <td>857</td>\n",
       "      <td>False</td>\n",
       "    </tr>\n",
       "    <tr>\n",
       "      <th>1</th>\n",
       "      <td>3.047625</td>\n",
       "      <td>0.993001</td>\n",
       "      <td>0.950673</td>\n",
       "      <td>0.763701</td>\n",
       "      <td>5</td>\n",
       "      <td>0.996858</td>\n",
       "      <td>0.949954</td>\n",
       "      <td>841</td>\n",
       "      <td>True</td>\n",
       "    </tr>\n",
       "    <tr>\n",
       "      <th>2</th>\n",
       "      <td>2.897191</td>\n",
       "      <td>0.718591</td>\n",
       "      <td>0.941583</td>\n",
       "      <td>0.489207</td>\n",
       "      <td>4</td>\n",
       "      <td>0.980957</td>\n",
       "      <td>0.912487</td>\n",
       "      <td>811</td>\n",
       "      <td>True</td>\n",
       "    </tr>\n",
       "    <tr>\n",
       "      <th>3</th>\n",
       "      <td>3.948450</td>\n",
       "      <td>0.953325</td>\n",
       "      <td>0.981074</td>\n",
       "      <td>0.914729</td>\n",
       "      <td>1</td>\n",
       "      <td>0.999489</td>\n",
       "      <td>0.997138</td>\n",
       "      <td>875</td>\n",
       "      <td>False</td>\n",
       "    </tr>\n",
       "    <tr>\n",
       "      <th>4</th>\n",
       "      <td>3.939870</td>\n",
       "      <td>0.452506</td>\n",
       "      <td>0.952712</td>\n",
       "      <td>0.974585</td>\n",
       "      <td>4</td>\n",
       "      <td>0.940924</td>\n",
       "      <td>0.973076</td>\n",
       "      <td>790</td>\n",
       "      <td>True</td>\n",
       "    </tr>\n",
       "  </tbody>\n",
       "</table>\n",
       "</div>"
      ],
      "text/plain": [
       "        gpa  maths_exam  art_exam  language_exam  social_activity  \\\n",
       "0  3.743429    0.898700  0.978949       0.937879                4   \n",
       "1  3.047625    0.993001  0.950673       0.763701                5   \n",
       "2  2.897191    0.718591  0.941583       0.489207                4   \n",
       "3  3.948450    0.953325  0.981074       0.914729                1   \n",
       "4  3.939870    0.452506  0.952712       0.974585                4   \n",
       "\n",
       "   essay_score  interview_score  score graduated  \n",
       "0     0.991515         0.999604    857     False  \n",
       "1     0.996858         0.949954    841      True  \n",
       "2     0.980957         0.912487    811      True  \n",
       "3     0.999489         0.997138    875     False  \n",
       "4     0.940924         0.973076    790      True  "
      ]
     },
     "execution_count": 8,
     "metadata": {},
     "output_type": "execute_result"
    }
   ],
   "source": [
    "#Data Cleaning: dropping columns\n",
    "train = train.drop(['id','year','accepted'], axis = 1, inplace=False)\n",
    "train.head()"
   ]
  },
  {
   "cell_type": "code",
   "execution_count": 9,
   "metadata": {},
   "outputs": [
    {
     "data": {
      "text/html": [
       "<div>\n",
       "<style scoped>\n",
       "    .dataframe tbody tr th:only-of-type {\n",
       "        vertical-align: middle;\n",
       "    }\n",
       "\n",
       "    .dataframe tbody tr th {\n",
       "        vertical-align: top;\n",
       "    }\n",
       "\n",
       "    .dataframe thead th {\n",
       "        text-align: right;\n",
       "    }\n",
       "</style>\n",
       "<table border=\"1\" class=\"dataframe\">\n",
       "  <thead>\n",
       "    <tr style=\"text-align: right;\">\n",
       "      <th></th>\n",
       "      <th>gpa</th>\n",
       "      <th>maths_exam</th>\n",
       "      <th>art_exam</th>\n",
       "      <th>language_exam</th>\n",
       "      <th>social_activity</th>\n",
       "      <th>essay_score</th>\n",
       "      <th>interview_score</th>\n",
       "      <th>score</th>\n",
       "      <th>graduated</th>\n",
       "    </tr>\n",
       "  </thead>\n",
       "  <tbody>\n",
       "    <tr>\n",
       "      <th>0</th>\n",
       "      <td>3.743429</td>\n",
       "      <td>0.898700</td>\n",
       "      <td>0.978949</td>\n",
       "      <td>0.937879</td>\n",
       "      <td>4</td>\n",
       "      <td>0.991515</td>\n",
       "      <td>0.999604</td>\n",
       "      <td>857</td>\n",
       "      <td>0</td>\n",
       "    </tr>\n",
       "    <tr>\n",
       "      <th>1</th>\n",
       "      <td>3.047625</td>\n",
       "      <td>0.993001</td>\n",
       "      <td>0.950673</td>\n",
       "      <td>0.763701</td>\n",
       "      <td>5</td>\n",
       "      <td>0.996858</td>\n",
       "      <td>0.949954</td>\n",
       "      <td>841</td>\n",
       "      <td>1</td>\n",
       "    </tr>\n",
       "    <tr>\n",
       "      <th>2</th>\n",
       "      <td>2.897191</td>\n",
       "      <td>0.718591</td>\n",
       "      <td>0.941583</td>\n",
       "      <td>0.489207</td>\n",
       "      <td>4</td>\n",
       "      <td>0.980957</td>\n",
       "      <td>0.912487</td>\n",
       "      <td>811</td>\n",
       "      <td>1</td>\n",
       "    </tr>\n",
       "    <tr>\n",
       "      <th>3</th>\n",
       "      <td>3.948450</td>\n",
       "      <td>0.953325</td>\n",
       "      <td>0.981074</td>\n",
       "      <td>0.914729</td>\n",
       "      <td>1</td>\n",
       "      <td>0.999489</td>\n",
       "      <td>0.997138</td>\n",
       "      <td>875</td>\n",
       "      <td>0</td>\n",
       "    </tr>\n",
       "    <tr>\n",
       "      <th>4</th>\n",
       "      <td>3.939870</td>\n",
       "      <td>0.452506</td>\n",
       "      <td>0.952712</td>\n",
       "      <td>0.974585</td>\n",
       "      <td>4</td>\n",
       "      <td>0.940924</td>\n",
       "      <td>0.973076</td>\n",
       "      <td>790</td>\n",
       "      <td>1</td>\n",
       "    </tr>\n",
       "  </tbody>\n",
       "</table>\n",
       "</div>"
      ],
      "text/plain": [
       "        gpa  maths_exam  art_exam  language_exam  social_activity  \\\n",
       "0  3.743429    0.898700  0.978949       0.937879                4   \n",
       "1  3.047625    0.993001  0.950673       0.763701                5   \n",
       "2  2.897191    0.718591  0.941583       0.489207                4   \n",
       "3  3.948450    0.953325  0.981074       0.914729                1   \n",
       "4  3.939870    0.452506  0.952712       0.974585                4   \n",
       "\n",
       "   essay_score  interview_score  score  graduated  \n",
       "0     0.991515         0.999604    857          0  \n",
       "1     0.996858         0.949954    841          1  \n",
       "2     0.980957         0.912487    811          1  \n",
       "3     0.999489         0.997138    875          0  \n",
       "4     0.940924         0.973076    790          1  "
      ]
     },
     "execution_count": 9,
     "metadata": {},
     "output_type": "execute_result"
    }
   ],
   "source": [
    "#Converting booleans to numerical data\n",
    "train['graduated'] = train['graduated'].astype('int')\n",
    "    \n",
    "train.head()"
   ]
  },
  {
   "cell_type": "code",
   "execution_count": 10,
   "metadata": {},
   "outputs": [
    {
     "name": "stdout",
     "output_type": "stream",
     "text": [
      "63.0% of gradutes had a gpa score higher than avarage of 3.59\n",
      "72.0% of gradutes had a maths_exam score higher than avarage of 0.85\n",
      "68.0% of gradutes had a art_exam score higher than avarage of 0.82\n",
      "68.0% of gradutes had a language_exam score higher than avarage of 0.81\n",
      "78.0% of gradutes had a essay_score score higher than avarage of 0.93\n",
      "78.0% of gradutes had a interview_score score higher than avarage of 0.94\n"
     ]
    }
   ],
   "source": [
    "#Calculating avarage values\n",
    "#Analysing how having a score above avarage affects a students potential for graduation\n",
    "def cat(*args):\n",
    "    for i in args:\n",
    "        mean = train[i].mean()\n",
    "        df = (train.loc[(train['graduated'] == 1) & (train[i] > mean)])\n",
    "        above_avg = df[i].count()\n",
    "\n",
    "        total_grads = sum(train['graduated']==1)\n",
    "        percent = round((above_avg/total_grads)*100)\n",
    "        print(str(percent) +  \"% \" + \"of gradutes had a \" + str(i) + \" score \" + \"higher than avarage of \" + str(round(mean, 2)))\n",
    "    \n",
    "cat('gpa', 'maths_exam', 'art_exam', 'language_exam', 'essay_score', 'interview_score')"
   ]
  },
  {
   "cell_type": "code",
   "execution_count": 11,
   "metadata": {},
   "outputs": [
    {
     "data": {
      "text/plain": [
       "<matplotlib.axes._subplots.AxesSubplot at 0x258e7791128>"
      ]
     },
     "execution_count": 11,
     "metadata": {},
     "output_type": "execute_result"
    },
    {
     "data": {
      "image/png": "[encoded data removed]",
      "text/plain": [
       "<Figure size 432x288 with 1 Axes>"
      ]
     },
     "metadata": {},
     "output_type": "display_data"
    }
   ],
   "source": [
    "#Almost 80% of graduates had essay and interview scores above avarage. We can use these finding to engineer new features.\n",
    "\n",
    "# Proportion of graduates with essay score above avarage(True)\n",
    "es_mean = (train['essay_score'].mean())\n",
    "esm_above = (train['essay_score'] > es_mean)\n",
    "\n",
    "df = pd.concat([train['graduated'], esm_above], axis=1)\n",
    "sns.set_style('whitegrid')\n",
    "sns.countplot(x='graduated',hue='essay_score',data=df,palette='RdBu_r')"
   ]
  },
  {
   "cell_type": "code",
   "execution_count": 12,
   "metadata": {},
   "outputs": [
    {
     "data": {
      "text/plain": [
       "<matplotlib.axes._subplots.AxesSubplot at 0x258e77e2a90>"
      ]
     },
     "execution_count": 12,
     "metadata": {},
     "output_type": "execute_result"
    },
    {
     "data": {
      "image/png": "[encoded data removed]",
      "text/plain": [
       "<Figure size 432x288 with 1 Axes>"
      ]
     },
     "metadata": {},
     "output_type": "display_data"
    }
   ],
   "source": [
    "# Proportion of graduates with interview score above avarage(True)\n",
    "is_mean = (train['interview_score'].mean())\n",
    "ism_above = (train['interview_score'] > is_mean)\n",
    "\n",
    "df = pd.concat([train['graduated'], ism_above], axis=1)\n",
    "sns.set_style('whitegrid')\n",
    "sns.countplot(x='graduated',hue='interview_score',data=df,palette='RdBu_r')"
   ]
  },
  {
   "cell_type": "code",
   "execution_count": 13,
   "metadata": {},
   "outputs": [
    {
     "data": {
      "text/plain": [
       "<seaborn.axisgrid.FacetGrid at 0x258e784db38>"
      ]
     },
     "execution_count": 13,
     "metadata": {},
     "output_type": "execute_result"
    },
    {
     "data": {
      "image/png": "[encoded data removed]",
      "text/plain": [
       "<Figure size 432x216 with 2 Axes>"
      ]
     },
     "metadata": {},
     "output_type": "display_data"
    }
   ],
   "source": [
    "#More visualisations\n",
    "g = sns.FacetGrid(train, col='graduated')\n",
    "g.map(plt.hist, 'score', bins=3)"
   ]
  },
  {
   "cell_type": "code",
   "execution_count": 14,
   "metadata": {},
   "outputs": [
    {
     "data": {
      "text/plain": [
       "<matplotlib.axes._subplots.AxesSubplot at 0x258e78fae80>"
      ]
     },
     "execution_count": 14,
     "metadata": {},
     "output_type": "execute_result"
    },
    {
     "data": {
      "image/png": "[encoded data removed]",
      "text/plain": [
       "<Figure size 432x288 with 1 Axes>"
      ]
     },
     "metadata": {},
     "output_type": "display_data"
    }
   ],
   "source": [
    "sns.set_style('whitegrid')\n",
    "sns.countplot(x='graduated',hue='social_activity',data=train,palette='rainbow')"
   ]
  },
  {
   "cell_type": "code",
   "execution_count": 15,
   "metadata": {},
   "outputs": [
    {
     "name": "stdout",
     "output_type": "stream",
     "text": [
      "0.9346691439892952\n"
     ]
    },
    {
     "data": {
      "text/html": [
       "<div>\n",
       "<style scoped>\n",
       "    .dataframe tbody tr th:only-of-type {\n",
       "        vertical-align: middle;\n",
       "    }\n",
       "\n",
       "    .dataframe tbody tr th {\n",
       "        vertical-align: top;\n",
       "    }\n",
       "\n",
       "    .dataframe thead th {\n",
       "        text-align: right;\n",
       "    }\n",
       "</style>\n",
       "<table border=\"1\" class=\"dataframe\">\n",
       "  <thead>\n",
       "    <tr style=\"text-align: right;\">\n",
       "      <th></th>\n",
       "      <th>gpa</th>\n",
       "      <th>maths_exam</th>\n",
       "      <th>art_exam</th>\n",
       "      <th>language_exam</th>\n",
       "      <th>social_activity</th>\n",
       "      <th>essay_score</th>\n",
       "      <th>interview_score</th>\n",
       "      <th>score</th>\n",
       "      <th>graduated</th>\n",
       "      <th>es_above_avg</th>\n",
       "    </tr>\n",
       "  </thead>\n",
       "  <tbody>\n",
       "    <tr>\n",
       "      <th>0</th>\n",
       "      <td>3.743429</td>\n",
       "      <td>0.898700</td>\n",
       "      <td>0.978949</td>\n",
       "      <td>0.937879</td>\n",
       "      <td>4</td>\n",
       "      <td>0.991515</td>\n",
       "      <td>0.999604</td>\n",
       "      <td>857</td>\n",
       "      <td>0</td>\n",
       "      <td>1</td>\n",
       "    </tr>\n",
       "    <tr>\n",
       "      <th>1</th>\n",
       "      <td>3.047625</td>\n",
       "      <td>0.993001</td>\n",
       "      <td>0.950673</td>\n",
       "      <td>0.763701</td>\n",
       "      <td>5</td>\n",
       "      <td>0.996858</td>\n",
       "      <td>0.949954</td>\n",
       "      <td>841</td>\n",
       "      <td>1</td>\n",
       "      <td>1</td>\n",
       "    </tr>\n",
       "    <tr>\n",
       "      <th>2</th>\n",
       "      <td>2.897191</td>\n",
       "      <td>0.718591</td>\n",
       "      <td>0.941583</td>\n",
       "      <td>0.489207</td>\n",
       "      <td>4</td>\n",
       "      <td>0.980957</td>\n",
       "      <td>0.912487</td>\n",
       "      <td>811</td>\n",
       "      <td>1</td>\n",
       "      <td>1</td>\n",
       "    </tr>\n",
       "    <tr>\n",
       "      <th>3</th>\n",
       "      <td>3.948450</td>\n",
       "      <td>0.953325</td>\n",
       "      <td>0.981074</td>\n",
       "      <td>0.914729</td>\n",
       "      <td>1</td>\n",
       "      <td>0.999489</td>\n",
       "      <td>0.997138</td>\n",
       "      <td>875</td>\n",
       "      <td>0</td>\n",
       "      <td>1</td>\n",
       "    </tr>\n",
       "    <tr>\n",
       "      <th>4</th>\n",
       "      <td>3.939870</td>\n",
       "      <td>0.452506</td>\n",
       "      <td>0.952712</td>\n",
       "      <td>0.974585</td>\n",
       "      <td>4</td>\n",
       "      <td>0.940924</td>\n",
       "      <td>0.973076</td>\n",
       "      <td>790</td>\n",
       "      <td>1</td>\n",
       "      <td>1</td>\n",
       "    </tr>\n",
       "  </tbody>\n",
       "</table>\n",
       "</div>"
      ],
      "text/plain": [
       "        gpa  maths_exam  art_exam  language_exam  social_activity  \\\n",
       "0  3.743429    0.898700  0.978949       0.937879                4   \n",
       "1  3.047625    0.993001  0.950673       0.763701                5   \n",
       "2  2.897191    0.718591  0.941583       0.489207                4   \n",
       "3  3.948450    0.953325  0.981074       0.914729                1   \n",
       "4  3.939870    0.452506  0.952712       0.974585                4   \n",
       "\n",
       "   essay_score  interview_score  score  graduated  es_above_avg  \n",
       "0     0.991515         0.999604    857          0             1  \n",
       "1     0.996858         0.949954    841          1             1  \n",
       "2     0.980957         0.912487    811          1             1  \n",
       "3     0.999489         0.997138    875          0             1  \n",
       "4     0.940924         0.973076    790          1             1  "
      ]
     },
     "execution_count": 15,
     "metadata": {},
     "output_type": "execute_result"
    }
   ],
   "source": [
    "#feature engineering: es_above_avg for student with essey score above avarage\n",
    "es_mean = (train['essay_score'].mean())\n",
    "print(es_mean)\n",
    "train['es_above_avg'] = train['essay_score'].map(lambda x: 0 if x < es_mean else 1)\n",
    "\n",
    "train.head()"
   ]
  },
  {
   "cell_type": "code",
   "execution_count": 16,
   "metadata": {},
   "outputs": [
    {
     "name": "stdout",
     "output_type": "stream",
     "text": [
      "0.9365320336186802\n"
     ]
    },
    {
     "data": {
      "text/html": [
       "<div>\n",
       "<style scoped>\n",
       "    .dataframe tbody tr th:only-of-type {\n",
       "        vertical-align: middle;\n",
       "    }\n",
       "\n",
       "    .dataframe tbody tr th {\n",
       "        vertical-align: top;\n",
       "    }\n",
       "\n",
       "    .dataframe thead th {\n",
       "        text-align: right;\n",
       "    }\n",
       "</style>\n",
       "<table border=\"1\" class=\"dataframe\">\n",
       "  <thead>\n",
       "    <tr style=\"text-align: right;\">\n",
       "      <th></th>\n",
       "      <th>gpa</th>\n",
       "      <th>maths_exam</th>\n",
       "      <th>art_exam</th>\n",
       "      <th>language_exam</th>\n",
       "      <th>social_activity</th>\n",
       "      <th>essay_score</th>\n",
       "      <th>interview_score</th>\n",
       "      <th>score</th>\n",
       "      <th>graduated</th>\n",
       "      <th>es_above_avg</th>\n",
       "      <th>is_above_avg</th>\n",
       "    </tr>\n",
       "  </thead>\n",
       "  <tbody>\n",
       "    <tr>\n",
       "      <th>0</th>\n",
       "      <td>3.743429</td>\n",
       "      <td>0.898700</td>\n",
       "      <td>0.978949</td>\n",
       "      <td>0.937879</td>\n",
       "      <td>4</td>\n",
       "      <td>0.991515</td>\n",
       "      <td>0.999604</td>\n",
       "      <td>857</td>\n",
       "      <td>0</td>\n",
       "      <td>1</td>\n",
       "      <td>1</td>\n",
       "    </tr>\n",
       "    <tr>\n",
       "      <th>1</th>\n",
       "      <td>3.047625</td>\n",
       "      <td>0.993001</td>\n",
       "      <td>0.950673</td>\n",
       "      <td>0.763701</td>\n",
       "      <td>5</td>\n",
       "      <td>0.996858</td>\n",
       "      <td>0.949954</td>\n",
       "      <td>841</td>\n",
       "      <td>1</td>\n",
       "      <td>1</td>\n",
       "      <td>1</td>\n",
       "    </tr>\n",
       "    <tr>\n",
       "      <th>2</th>\n",
       "      <td>2.897191</td>\n",
       "      <td>0.718591</td>\n",
       "      <td>0.941583</td>\n",
       "      <td>0.489207</td>\n",
       "      <td>4</td>\n",
       "      <td>0.980957</td>\n",
       "      <td>0.912487</td>\n",
       "      <td>811</td>\n",
       "      <td>1</td>\n",
       "      <td>1</td>\n",
       "      <td>0</td>\n",
       "    </tr>\n",
       "    <tr>\n",
       "      <th>3</th>\n",
       "      <td>3.948450</td>\n",
       "      <td>0.953325</td>\n",
       "      <td>0.981074</td>\n",
       "      <td>0.914729</td>\n",
       "      <td>1</td>\n",
       "      <td>0.999489</td>\n",
       "      <td>0.997138</td>\n",
       "      <td>875</td>\n",
       "      <td>0</td>\n",
       "      <td>1</td>\n",
       "      <td>1</td>\n",
       "    </tr>\n",
       "    <tr>\n",
       "      <th>4</th>\n",
       "      <td>3.939870</td>\n",
       "      <td>0.452506</td>\n",
       "      <td>0.952712</td>\n",
       "      <td>0.974585</td>\n",
       "      <td>4</td>\n",
       "      <td>0.940924</td>\n",
       "      <td>0.973076</td>\n",
       "      <td>790</td>\n",
       "      <td>1</td>\n",
       "      <td>1</td>\n",
       "      <td>1</td>\n",
       "    </tr>\n",
       "    <tr>\n",
       "      <th>5</th>\n",
       "      <td>3.556771</td>\n",
       "      <td>0.982567</td>\n",
       "      <td>0.935440</td>\n",
       "      <td>0.986107</td>\n",
       "      <td>1</td>\n",
       "      <td>0.988830</td>\n",
       "      <td>0.736873</td>\n",
       "      <td>797</td>\n",
       "      <td>0</td>\n",
       "      <td>1</td>\n",
       "      <td>0</td>\n",
       "    </tr>\n",
       "    <tr>\n",
       "      <th>6</th>\n",
       "      <td>3.538080</td>\n",
       "      <td>0.995407</td>\n",
       "      <td>0.747386</td>\n",
       "      <td>0.925492</td>\n",
       "      <td>2</td>\n",
       "      <td>0.944370</td>\n",
       "      <td>0.999254</td>\n",
       "      <td>837</td>\n",
       "      <td>1</td>\n",
       "      <td>1</td>\n",
       "      <td>1</td>\n",
       "    </tr>\n",
       "    <tr>\n",
       "      <th>7</th>\n",
       "      <td>3.416580</td>\n",
       "      <td>0.758568</td>\n",
       "      <td>0.650531</td>\n",
       "      <td>0.936170</td>\n",
       "      <td>4</td>\n",
       "      <td>0.562112</td>\n",
       "      <td>0.994112</td>\n",
       "      <td>771</td>\n",
       "      <td>1</td>\n",
       "      <td>0</td>\n",
       "      <td>1</td>\n",
       "    </tr>\n",
       "    <tr>\n",
       "      <th>8</th>\n",
       "      <td>3.911870</td>\n",
       "      <td>0.992757</td>\n",
       "      <td>0.993585</td>\n",
       "      <td>0.948555</td>\n",
       "      <td>4</td>\n",
       "      <td>0.997801</td>\n",
       "      <td>0.998746</td>\n",
       "      <td>817</td>\n",
       "      <td>1</td>\n",
       "      <td>1</td>\n",
       "      <td>1</td>\n",
       "    </tr>\n",
       "    <tr>\n",
       "      <th>9</th>\n",
       "      <td>3.214185</td>\n",
       "      <td>0.588444</td>\n",
       "      <td>0.804121</td>\n",
       "      <td>0.910174</td>\n",
       "      <td>1</td>\n",
       "      <td>0.984017</td>\n",
       "      <td>0.997593</td>\n",
       "      <td>762</td>\n",
       "      <td>1</td>\n",
       "      <td>1</td>\n",
       "      <td>1</td>\n",
       "    </tr>\n",
       "  </tbody>\n",
       "</table>\n",
       "</div>"
      ],
      "text/plain": [
       "        gpa  maths_exam  art_exam  language_exam  social_activity  \\\n",
       "0  3.743429    0.898700  0.978949       0.937879                4   \n",
       "1  3.047625    0.993001  0.950673       0.763701                5   \n",
       "2  2.897191    0.718591  0.941583       0.489207                4   \n",
       "3  3.948450    0.953325  0.981074       0.914729                1   \n",
       "4  3.939870    0.452506  0.952712       0.974585                4   \n",
       "5  3.556771    0.982567  0.935440       0.986107                1   \n",
       "6  3.538080    0.995407  0.747386       0.925492                2   \n",
       "7  3.416580    0.758568  0.650531       0.936170                4   \n",
       "8  3.911870    0.992757  0.993585       0.948555                4   \n",
       "9  3.214185    0.588444  0.804121       0.910174                1   \n",
       "\n",
       "   essay_score  interview_score  score  graduated  es_above_avg  is_above_avg  \n",
       "0     0.991515         0.999604    857          0             1             1  \n",
       "1     0.996858         0.949954    841          1             1             1  \n",
       "2     0.980957         0.912487    811          1             1             0  \n",
       "3     0.999489         0.997138    875          0             1             1  \n",
       "4     0.940924         0.973076    790          1             1             1  \n",
       "5     0.988830         0.736873    797          0             1             0  \n",
       "6     0.944370         0.999254    837          1             1             1  \n",
       "7     0.562112         0.994112    771          1             0             1  \n",
       "8     0.997801         0.998746    817          1             1             1  \n",
       "9     0.984017         0.997593    762          1             1             1  "
      ]
     },
     "execution_count": 16,
     "metadata": {},
     "output_type": "execute_result"
    }
   ],
   "source": [
    "#feature engineering: is_above_avg for student with interview score above avarage\n",
    "is_mean = (train['interview_score'].mean())\n",
    "print(is_mean)\n",
    "train['is_above_avg'] = train['interview_score'].map(lambda x: 0 if x < is_mean else 1)\n",
    "train.head(10)"
   ]
  },
  {
   "cell_type": "code",
   "execution_count": 17,
   "metadata": {},
   "outputs": [],
   "source": [
    "# Split into train and test dataset\n",
    "from sklearn.model_selection import train_test_split\n",
    "\n",
    "X_train, X_test, y_train, y_test = train_test_split(train.drop('graduated',axis=1), \n",
    "                                                    train['graduated'], test_size=0.20, \n",
    "                                                    random_state=101)"
   ]
  },
  {
   "cell_type": "code",
   "execution_count": 18,
   "metadata": {},
   "outputs": [],
   "source": [
    "#Applying Logistic Regression\n",
    "from sklearn.linear_model import LogisticRegression"
   ]
  },
  {
   "cell_type": "code",
   "execution_count": 19,
   "metadata": {},
   "outputs": [
    {
     "data": {
      "text/plain": [
       "LogisticRegression(C=1.0, class_weight=None, dual=False, fit_intercept=True,\n",
       "          intercept_scaling=1, max_iter=200, multi_class='warn',\n",
       "          n_jobs=None, penalty='l2', random_state=None, solver='lbfgs',\n",
       "          tol=0.0001, verbose=0, warm_start=False)"
      ]
     },
     "execution_count": 19,
     "metadata": {},
     "output_type": "execute_result"
    }
   ],
   "source": [
    "logmodel = LogisticRegression(solver='lbfgs', max_iter=200)\n",
    "logmodel.fit(X_train,y_train)"
   ]
  },
  {
   "cell_type": "code",
   "execution_count": 20,
   "metadata": {
    "scrolled": true
   },
   "outputs": [
    {
     "data": {
      "text/html": [
       "<div>\n",
       "<style scoped>\n",
       "    .dataframe tbody tr th:only-of-type {\n",
       "        vertical-align: middle;\n",
       "    }\n",
       "\n",
       "    .dataframe tbody tr th {\n",
       "        vertical-align: top;\n",
       "    }\n",
       "\n",
       "    .dataframe thead th {\n",
       "        text-align: right;\n",
       "    }\n",
       "</style>\n",
       "<table border=\"1\" class=\"dataframe\">\n",
       "  <thead>\n",
       "    <tr style=\"text-align: right;\">\n",
       "      <th></th>\n",
       "      <th>gpa</th>\n",
       "      <th>maths_exam</th>\n",
       "      <th>art_exam</th>\n",
       "      <th>language_exam</th>\n",
       "      <th>social_activity</th>\n",
       "      <th>essay_score</th>\n",
       "      <th>interview_score</th>\n",
       "      <th>score</th>\n",
       "      <th>es_above_avg</th>\n",
       "      <th>is_above_avg</th>\n",
       "    </tr>\n",
       "  </thead>\n",
       "  <tbody>\n",
       "    <tr>\n",
       "      <th>4789</th>\n",
       "      <td>3.829905</td>\n",
       "      <td>0.996713</td>\n",
       "      <td>0.959406</td>\n",
       "      <td>0.869368</td>\n",
       "      <td>4</td>\n",
       "      <td>0.959798</td>\n",
       "      <td>0.943763</td>\n",
       "      <td>766</td>\n",
       "      <td>1</td>\n",
       "      <td>1</td>\n",
       "    </tr>\n",
       "    <tr>\n",
       "      <th>4047</th>\n",
       "      <td>3.515381</td>\n",
       "      <td>0.770770</td>\n",
       "      <td>0.880333</td>\n",
       "      <td>0.990249</td>\n",
       "      <td>4</td>\n",
       "      <td>0.999194</td>\n",
       "      <td>0.998481</td>\n",
       "      <td>807</td>\n",
       "      <td>1</td>\n",
       "      <td>1</td>\n",
       "    </tr>\n",
       "    <tr>\n",
       "      <th>6110</th>\n",
       "      <td>3.824065</td>\n",
       "      <td>0.991848</td>\n",
       "      <td>0.880050</td>\n",
       "      <td>0.996263</td>\n",
       "      <td>3</td>\n",
       "      <td>0.999586</td>\n",
       "      <td>0.998435</td>\n",
       "      <td>799</td>\n",
       "      <td>1</td>\n",
       "      <td>1</td>\n",
       "    </tr>\n",
       "    <tr>\n",
       "      <th>133</th>\n",
       "      <td>3.754004</td>\n",
       "      <td>0.897025</td>\n",
       "      <td>0.779628</td>\n",
       "      <td>0.818264</td>\n",
       "      <td>4</td>\n",
       "      <td>0.951976</td>\n",
       "      <td>0.981549</td>\n",
       "      <td>828</td>\n",
       "      <td>1</td>\n",
       "      <td>1</td>\n",
       "    </tr>\n",
       "    <tr>\n",
       "      <th>4452</th>\n",
       "      <td>3.536419</td>\n",
       "      <td>0.910734</td>\n",
       "      <td>0.831441</td>\n",
       "      <td>0.400636</td>\n",
       "      <td>4</td>\n",
       "      <td>0.649345</td>\n",
       "      <td>0.859423</td>\n",
       "      <td>935</td>\n",
       "      <td>0</td>\n",
       "      <td>0</td>\n",
       "    </tr>\n",
       "  </tbody>\n",
       "</table>\n",
       "</div>"
      ],
      "text/plain": [
       "           gpa  maths_exam  art_exam  language_exam  social_activity  \\\n",
       "4789  3.829905    0.996713  0.959406       0.869368                4   \n",
       "4047  3.515381    0.770770  0.880333       0.990249                4   \n",
       "6110  3.824065    0.991848  0.880050       0.996263                3   \n",
       "133   3.754004    0.897025  0.779628       0.818264                4   \n",
       "4452  3.536419    0.910734  0.831441       0.400636                4   \n",
       "\n",
       "      essay_score  interview_score  score  es_above_avg  is_above_avg  \n",
       "4789     0.959798         0.943763    766             1             1  \n",
       "4047     0.999194         0.998481    807             1             1  \n",
       "6110     0.999586         0.998435    799             1             1  \n",
       "133      0.951976         0.981549    828             1             1  \n",
       "4452     0.649345         0.859423    935             0             0  "
      ]
     },
     "execution_count": 20,
     "metadata": {},
     "output_type": "execute_result"
    }
   ],
   "source": [
    "predictions = logmodel.predict(X_test)\n",
    "X_test.head()"
   ]
  },
  {
   "cell_type": "code",
   "execution_count": 21,
   "metadata": {},
   "outputs": [
    {
     "data": {
      "text/plain": [
       "array([1, 1, 1, 1, 1, 1, 1, 1, 1, 1, 1, 1, 0, 1, 1, 1, 1, 1, 1, 1, 1, 1,\n",
       "       1, 1, 1, 1, 1, 1, 0, 1, 1, 1, 1, 1, 1, 0, 1, 1, 1, 1, 1, 1, 1, 1,\n",
       "       1, 1, 1, 1, 1, 1, 0, 1, 1, 1, 1, 1, 1, 1, 1, 1, 1, 1, 1, 1, 0, 1,\n",
       "       1, 1, 1, 1, 1, 1, 1, 1, 1, 1, 1, 1, 1, 1, 1, 1, 1, 0, 1, 1, 1, 1,\n",
       "       1, 1, 1, 1, 1, 1, 0, 0, 1, 1, 1, 1])"
      ]
     },
     "execution_count": 21,
     "metadata": {},
     "output_type": "execute_result"
    }
   ],
   "source": [
    "predictions[0:100]"
   ]
  },
  {
   "cell_type": "code",
   "execution_count": 22,
   "metadata": {},
   "outputs": [
    {
     "name": "stdout",
     "output_type": "stream",
     "text": [
      "[[ 54 399]\n",
      " [ 43 906]]\n"
     ]
    }
   ],
   "source": [
    "from sklearn.metrics import classification_report,confusion_matrix\n",
    "print(confusion_matrix(y_test,predictions))"
   ]
  },
  {
   "cell_type": "code",
   "execution_count": 23,
   "metadata": {
    "scrolled": true
   },
   "outputs": [
    {
     "name": "stdout",
     "output_type": "stream",
     "text": [
      "              precision    recall  f1-score   support\n",
      "\n",
      "           0       0.56      0.12      0.20       453\n",
      "           1       0.69      0.95      0.80       949\n",
      "\n",
      "   micro avg       0.68      0.68      0.68      1402\n",
      "   macro avg       0.63      0.54      0.50      1402\n",
      "weighted avg       0.65      0.68      0.61      1402\n",
      "\n"
     ]
    }
   ],
   "source": [
    "print(classification_report(y_test,predictions))"
   ]
  }
 ],
 "metadata": {
  "kernelspec": {
   "display_name": "Python 3",
   "language": "python",
   "name": "python3"
  },
  "language_info": {
   "codemirror_mode": {
    "name": "ipython",
    "version": 3
   },
   "file_extension": ".py",
   "mimetype": "text/x-python",
   "name": "python",
   "nbconvert_exporter": "python",
   "pygments_lexer": "ipython3",
   "version": "3.7.3"
  }
 },
 "nbformat": 4,
 "nbformat_minor": 2
}
